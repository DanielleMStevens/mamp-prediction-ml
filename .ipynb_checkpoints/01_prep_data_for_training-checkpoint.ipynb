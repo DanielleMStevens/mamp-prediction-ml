{
 "cells": [
  {
   "cell_type": "code",
   "execution_count": 1,
   "metadata": {},
   "outputs": [
    {
     "ename": "ModuleNotFoundError",
     "evalue": "No module named 'sklearn'",
     "output_type": "error",
     "traceback": [
      "\u001b[0;31m---------------------------------------------------------------------------\u001b[0m",
      "\u001b[0;31mModuleNotFoundError\u001b[0m                       Traceback (most recent call last)",
      "Cell \u001b[0;32mIn[1], line 11\u001b[0m\n\u001b[1;32m      9\u001b[0m \u001b[38;5;28;01mimport\u001b[39;00m \u001b[38;5;21;01mitertools\u001b[39;00m \u001b[38;5;28;01mas\u001b[39;00m \u001b[38;5;21;01mit\u001b[39;00m\n\u001b[1;32m     10\u001b[0m \u001b[38;5;28;01mimport\u001b[39;00m \u001b[38;5;21;01mrandom\u001b[39;00m\n\u001b[0;32m---> 11\u001b[0m \u001b[38;5;28;01mfrom\u001b[39;00m \u001b[38;5;21;01msklearn\u001b[39;00m\u001b[38;5;21;01m.\u001b[39;00m\u001b[38;5;21;01mmodel_selection\u001b[39;00m \u001b[38;5;28;01mimport\u001b[39;00m train_test_split\n",
      "\u001b[0;31mModuleNotFoundError\u001b[0m: No module named 'sklearn'"
     ]
    }
   ],
   "source": [
    "# First we will need to install and load a variety of packages to prep the sequence data for training. \n",
    "\n",
    "import pandas as pd\n",
    "import subprocess\n",
    "import shutil\n",
    "from collections import defaultdict\n",
    "from pathlib import Path\n",
    "import numpy as np\n",
    "import itertools as it\n",
    "import random\n",
    "from sklearn.model_selection import train_test_split"
   ]
  },
  {
   "cell_type": "code",
   "execution_count": 3,
   "metadata": {},
   "outputs": [],
   "source": [
    "epitope_to_receptor_name = {\"elf18\": \"At_Col0_EFR_ectodomain\", \"flg22\": \"At_Col0_FLS2_ectodomain\", \"csp22\": \"Sl_RG_CORE_ectodomain\"}\n",
    "receptor_name_to_seq = {}\n",
    "for receptor_name in epitope_to_receptor_name.values():\n",
    "    with open(f\"./in_data/receptor_ectodomain_fastas/{receptor_name}.fasta\", \"r\") as f:\n",
    "        lines = f.read().splitlines()\n",
    "    receptor_seq = ''.join(lines[1:])\n",
    "    receptor_name_to_seq[receptor_name] = receptor_seq\n",
    "\n",
    "print(receptor_name_to_seq)"
   ]
  },
  {
   "cell_type": "markdown",
   "metadata": {},
   "source": [
    "data_df = pd.read_excel(\"./All_LRR_PRR_ligand_data.xlsx\")\n",
    "\n",
    "print(data_df)"
   ]
  },
  {
   "cell_type": "code",
   "execution_count": null,
   "metadata": {},
   "outputs": [],
   "source": [
    "data_df.drop_duplicates(subset=[\"Sequence\", \"Known Outcome\"], inplace=True)\n",
    "data_df = data_df.iloc[:, :4]\n",
    "data_df['Receptor Name'] = data_df[\"Epitope\"].map(epitope_to_receptor_name)\n",
    "data_df['Receptor Sequence'] = data_df[\"Receptor Name\"].map(receptor_name_to_seq)\n",
    "data_df.to_excel(\"../in_data/MAMP_prediction_model_data.xlsx\", index=False)\n",
    "all_df = pd.read_excel(\"../in_data/Stevens_et_al_MAMP_database.xlsx\").rename(columns={\"MAMP_Sequence\": \"Sequence\"})\n",
    "final_df = data_df.merge(all_df[['Sequence', 'Genera']], how='left', on='Sequence').drop_duplicates()\n",
    "final_df\n",
    "\n",
    "stratify_array = [(epitope, outcome) for epitope, outcome in zip(data_df['Epitope'], data_df['Known Outcome'])]\n",
    "train_df, test_df = train_test_split(data_df, test_size=0.2, random_state=42, stratify=stratify_array)\n",
    "train_df.to_csv(\"../datasets/stratify/train.csv\", index=False)\n",
    "test_df.to_csv(\"../datasets/stratify/test.csv\", index=False)"
   ]
  }
 ],
 "metadata": {
  "kernelspec": {
   "display_name": "tf 2.15.0 py3.10.0",
   "language": "python",
   "name": "tf2.15.0"
  },
  "language_info": {
   "codemirror_mode": {
    "name": "ipython",
    "version": 3
   },
   "file_extension": ".py",
   "mimetype": "text/x-python",
   "name": "python",
   "nbconvert_exporter": "python",
   "pygments_lexer": "ipython3",
   "version": "3.10.0"
  }
 },
 "nbformat": 4,
 "nbformat_minor": 4
}
