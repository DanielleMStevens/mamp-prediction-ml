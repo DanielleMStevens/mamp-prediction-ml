{
 "cells": [
  {
   "cell_type": "code",
   "execution_count": null,
   "metadata": {},
   "outputs": [],
   "source": []
  },
  {
   "cell_type": "code",
   "execution_count": 2,
   "metadata": {},
   "outputs": [],
   "source": [
    "# import training file \n",
    "import pandas as pd\n",
    "training_file = pd.read_excel(\"./in_data/All_LRR_PRR_ligand_data.xlsx\", engine='openpyxl')"
   ]
  },
  {
   "cell_type": "code",
   "execution_count": 8,
   "metadata": {},
   "outputs": [
    {
     "name": "stdout",
     "output_type": "stream",
     "text": [
      "Requirement already satisfied: aria2p in /Users/daniellestevens/anaconda3/envs/esmfold/lib/python3.9/site-packages (0.12.1)\n",
      "Requirement already satisfied: loguru>=0.5 in /Users/daniellestevens/anaconda3/envs/esmfold/lib/python3.9/site-packages (from aria2p) (0.7.3)\n",
      "Requirement already satisfied: platformdirs>=4.2 in /Users/daniellestevens/anaconda3/envs/esmfold/lib/python3.9/site-packages (from aria2p) (4.3.6)\n",
      "Requirement already satisfied: requests>=2.19 in /Users/daniellestevens/anaconda3/envs/esmfold/lib/python3.9/site-packages (from aria2p) (2.32.3)\n",
      "Requirement already satisfied: tomli>=2.0 in /Users/daniellestevens/anaconda3/envs/esmfold/lib/python3.9/site-packages (from aria2p) (2.2.1)\n",
      "Requirement already satisfied: websocket-client>=0.58 in /Users/daniellestevens/anaconda3/envs/esmfold/lib/python3.9/site-packages (from aria2p) (1.8.0)\n",
      "Requirement already satisfied: charset_normalizer<4,>=2 in /Users/daniellestevens/anaconda3/envs/esmfold/lib/python3.9/site-packages (from requests>=2.19->aria2p) (3.4.1)\n",
      "Requirement already satisfied: idna<4,>=2.5 in /Users/daniellestevens/anaconda3/envs/esmfold/lib/python3.9/site-packages (from requests>=2.19->aria2p) (3.10)\n",
      "Requirement already satisfied: urllib3<3,>=1.21.1 in /Users/daniellestevens/anaconda3/envs/esmfold/lib/python3.9/site-packages (from requests>=2.19->aria2p) (2.3.0)\n",
      "Requirement already satisfied: certifi>=2017.4.17 in /Users/daniellestevens/anaconda3/envs/esmfold/lib/python3.9/site-packages (from requests>=2.19->aria2p) (2024.12.14)\n"
     ]
    },
    {
     "name": "stderr",
     "output_type": "stream",
     "text": [
      "usage: aria2p [GLOBAL_OPTS...] COMMAND [COMMAND_OPTS...]\n",
      "aria2p: error: argument : invalid choice: '16' (choose from 'add', 'add-magnets', 'add-magnet', 'add-metalinks', 'add-metalink', 'add-torrents', 'add-torrent', 'purge', 'autoclear', 'autopurge', 'autoremove', 'call', 'pause', 'stop', 'remove', 'rm', 'del', 'delete', 'resume', 'start', 'show', 'top', 'listen')\n"
     ]
    },
    {
     "ename": "KeyboardInterrupt",
     "evalue": "",
     "output_type": "error",
     "traceback": [
      "\u001b[0;31m---------------------------------------------------------------------------\u001b[0m",
      "\u001b[0;31mKeyboardInterrupt\u001b[0m                         Traceback (most recent call last)",
      "File \u001b[0;32m<timed exec>:28\u001b[0m\n",
      "\u001b[0;31mKeyboardInterrupt\u001b[0m: "
     ]
    }
   ],
   "source": [
    "%%time\n",
    "#@title install\n",
    "#@markdown install ESMFold, OpenFold and download Params (~2min 30s)\n",
    "version = \"1\" # @param [\"0\", \"1\"]\n",
    "model_name = \"esmfold_v0.model\" if version == \"0\" else \"esmfold.model\"\n",
    "import os, time\n",
    "if not os.path.isfile(model_name):\n",
    "  # download esmfold params\n",
    "  os.system(\"python3.9 -m pip install aria2p\")\n",
    "  os.system(f\"aria2p -q -x 16 https://colabfold.steineggerlab.workers.dev/esm/{model_name} &\")\n",
    "\n",
    "  if not os.path.isfile(\"finished_install\"):\n",
    "    # install libs\n",
    "    print(\"installing libs...\")\n",
    "    os.system(\"pip install -q omegaconf pytorch_lightning biopython ml_collections einops py3Dmol modelcif\")\n",
    "    os.system(\"pip install -q git+https://github.com/NVIDIA/dllogger.git\")\n",
    "\n",
    "    print(\"installing openfold...\")\n",
    "    # install openfold\n",
    "    os.system(f\"pip install -q git+https://github.com/sokrypton/openfold.git\")\n",
    "\n",
    "    print(\"installing esmfold...\")\n",
    "    # install esmfold\n",
    "    os.system(f\"pip install -q git+https://github.com/sokrypton/esm.git\")\n",
    "    os.system(\"touch finished_install\")\n",
    "\n",
    "  # wait for Params to finish downloading...\n",
    "  while not os.path.isfile(model_name):\n",
    "    time.sleep(5)\n",
    "  if os.path.isfile(f\"{model_name}.aria2p\"):\n",
    "    print(\"downloading params...\")\n",
    "  while os.path.isfile(f\"{model_name}.aria2p\"):\n",
    "    time.sleep(5)"
   ]
  },
  {
   "cell_type": "code",
   "execution_count": 7,
   "metadata": {},
   "outputs": [
    {
     "ename": "ModuleNotFoundError",
     "evalue": "No module named 'openfold'",
     "output_type": "error",
     "traceback": [
      "\u001b[0;31m---------------------------------------------------------------------------\u001b[0m",
      "\u001b[0;31mModuleNotFoundError\u001b[0m                       Traceback (most recent call last)",
      "Input \u001b[0;32mIn [7]\u001b[0m, in \u001b[0;36m<cell line: 4>\u001b[0;34m()\u001b[0m\n\u001b[1;32m      1\u001b[0m \u001b[38;5;28;01mimport\u001b[39;00m \u001b[38;5;21;01mtorch\u001b[39;00m\n\u001b[1;32m      2\u001b[0m \u001b[38;5;28;01mimport\u001b[39;00m \u001b[38;5;21;01mesm\u001b[39;00m\n\u001b[0;32m----> 4\u001b[0m model \u001b[38;5;241m=\u001b[39m \u001b[43mesm\u001b[49m\u001b[38;5;241;43m.\u001b[39;49m\u001b[43mpretrained\u001b[49m\u001b[38;5;241;43m.\u001b[39;49m\u001b[43mesmfold_v1\u001b[49m\u001b[43m(\u001b[49m\u001b[43m)\u001b[49m\n\u001b[1;32m      5\u001b[0m model \u001b[38;5;241m=\u001b[39m model\u001b[38;5;241m.\u001b[39meval()\u001b[38;5;241m.\u001b[39mcuda()\n\u001b[1;32m      8\u001b[0m training_file\u001b[38;5;241m.\u001b[39miloc[\u001b[38;5;241m3\u001b[39m,\u001b[38;5;241m7\u001b[39m]\n",
      "File \u001b[0;32m~/anaconda3/envs/esmfold/lib/python3.8/site-packages/esm/pretrained.py:419\u001b[0m, in \u001b[0;36mesmfold_v1\u001b[0;34m()\u001b[0m\n\u001b[1;32m    411\u001b[0m \u001b[38;5;28;01mdef\u001b[39;00m \u001b[38;5;21mesmfold_v1\u001b[39m():\n\u001b[1;32m    412\u001b[0m \u001b[38;5;250m    \u001b[39m\u001b[38;5;124;03m\"\"\"\u001b[39;00m\n\u001b[1;32m    413\u001b[0m \u001b[38;5;124;03m    ESMFold v1 model using 3B ESM-2, 48 folding blocks.\u001b[39;00m\n\u001b[1;32m    414\u001b[0m \u001b[38;5;124;03m    ESMFold provides fast high accuracy atomic level structure prediction\u001b[39;00m\n\u001b[0;32m   (...)\u001b[0m\n\u001b[1;32m    417\u001b[0m \u001b[38;5;124;03m    protein sequence.\u001b[39;00m\n\u001b[1;32m    418\u001b[0m \u001b[38;5;124;03m    \"\"\"\u001b[39;00m\n\u001b[0;32m--> 419\u001b[0m     \u001b[38;5;28;01mimport\u001b[39;00m \u001b[38;5;21;01mesm\u001b[39;00m\u001b[38;5;21;01m.\u001b[39;00m\u001b[38;5;21;01mesmfold\u001b[39;00m\u001b[38;5;21;01m.\u001b[39;00m\u001b[38;5;21;01mv1\u001b[39;00m\u001b[38;5;21;01m.\u001b[39;00m\u001b[38;5;21;01mpretrained\u001b[39;00m\n\u001b[1;32m    420\u001b[0m     \u001b[38;5;28;01mreturn\u001b[39;00m esm\u001b[38;5;241m.\u001b[39mesmfold\u001b[38;5;241m.\u001b[39mv1\u001b[38;5;241m.\u001b[39mpretrained\u001b[38;5;241m.\u001b[39mesmfold_v1()\n",
      "File \u001b[0;32m~/anaconda3/envs/esmfold/lib/python3.8/site-packages/esm/esmfold/v1/pretrained.py:5\u001b[0m, in \u001b[0;36m<module>\u001b[0;34m\u001b[0m\n\u001b[1;32m      1\u001b[0m \u001b[38;5;28;01mfrom\u001b[39;00m \u001b[38;5;21;01mpathlib\u001b[39;00m \u001b[38;5;28;01mimport\u001b[39;00m Path\n\u001b[1;32m      3\u001b[0m \u001b[38;5;28;01mimport\u001b[39;00m \u001b[38;5;21;01mtorch\u001b[39;00m\n\u001b[0;32m----> 5\u001b[0m \u001b[38;5;28;01mfrom\u001b[39;00m \u001b[38;5;21;01mesm\u001b[39;00m\u001b[38;5;21;01m.\u001b[39;00m\u001b[38;5;21;01mesmfold\u001b[39;00m\u001b[38;5;21;01m.\u001b[39;00m\u001b[38;5;21;01mv1\u001b[39;00m\u001b[38;5;21;01m.\u001b[39;00m\u001b[38;5;21;01mesmfold\u001b[39;00m \u001b[38;5;28;01mimport\u001b[39;00m ESMFold\n\u001b[1;32m      8\u001b[0m \u001b[38;5;28;01mdef\u001b[39;00m \u001b[38;5;21m_load_model\u001b[39m(model_name):\n\u001b[1;32m      9\u001b[0m     \u001b[38;5;28;01mif\u001b[39;00m model_name\u001b[38;5;241m.\u001b[39mendswith(\u001b[38;5;124m\"\u001b[39m\u001b[38;5;124m.pt\u001b[39m\u001b[38;5;124m\"\u001b[39m):  \u001b[38;5;66;03m# local, treat as filepath\u001b[39;00m\n",
      "File \u001b[0;32m~/anaconda3/envs/esmfold/lib/python3.8/site-packages/esm/esmfold/v1/esmfold.py:11\u001b[0m, in \u001b[0;36m<module>\u001b[0;34m\u001b[0m\n\u001b[1;32m      9\u001b[0m \u001b[38;5;28;01mimport\u001b[39;00m \u001b[38;5;21;01mtorch\u001b[39;00m\u001b[38;5;21;01m.\u001b[39;00m\u001b[38;5;21;01mnn\u001b[39;00m \u001b[38;5;28;01mas\u001b[39;00m \u001b[38;5;21;01mnn\u001b[39;00m\n\u001b[1;32m     10\u001b[0m \u001b[38;5;28;01mfrom\u001b[39;00m \u001b[38;5;21;01momegaconf\u001b[39;00m \u001b[38;5;28;01mimport\u001b[39;00m MISSING\n\u001b[0;32m---> 11\u001b[0m \u001b[38;5;28;01mfrom\u001b[39;00m \u001b[38;5;21;01mopenfold\u001b[39;00m\u001b[38;5;21;01m.\u001b[39;00m\u001b[38;5;21;01mdata\u001b[39;00m\u001b[38;5;21;01m.\u001b[39;00m\u001b[38;5;21;01mdata_transforms\u001b[39;00m \u001b[38;5;28;01mimport\u001b[39;00m make_atom14_masks\n\u001b[1;32m     12\u001b[0m \u001b[38;5;28;01mfrom\u001b[39;00m \u001b[38;5;21;01mopenfold\u001b[39;00m\u001b[38;5;21;01m.\u001b[39;00m\u001b[38;5;21;01mnp\u001b[39;00m \u001b[38;5;28;01mimport\u001b[39;00m residue_constants\n\u001b[1;32m     13\u001b[0m \u001b[38;5;28;01mfrom\u001b[39;00m \u001b[38;5;21;01mopenfold\u001b[39;00m\u001b[38;5;21;01m.\u001b[39;00m\u001b[38;5;21;01mutils\u001b[39;00m\u001b[38;5;21;01m.\u001b[39;00m\u001b[38;5;21;01mloss\u001b[39;00m \u001b[38;5;28;01mimport\u001b[39;00m compute_predicted_aligned_error, compute_tm\n",
      "\u001b[0;31mModuleNotFoundError\u001b[0m: No module named 'openfold'"
     ]
    }
   ],
   "source": [
    "\n",
    "#import torch\n",
    "#import esm\n",
    "\n",
    "#model = esm.pretrained.esmfold_v1()\n",
    "#model = model.eval().cuda()\n",
    "#training_file.iloc[3,7]"
   ]
  }
 ],
 "metadata": {
  "kernelspec": {
   "display_name": "Python 3",
   "language": "python",
   "name": "python3"
  },
  "language_info": {
   "codemirror_mode": {
    "name": "ipython",
    "version": 3
   },
   "file_extension": ".py",
   "mimetype": "text/x-python",
   "name": "python",
   "nbconvert_exporter": "python",
   "pygments_lexer": "ipython3",
   "version": "3.9.19"
  }
 },
 "nbformat": 4,
 "nbformat_minor": 2
}
